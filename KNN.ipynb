{
  "nbformat": 4,
  "nbformat_minor": 0,
  "metadata": {
    "colab": {
      "name": "First attempt",
      "provenance": [],
      "collapsed_sections": [],
      "include_colab_link": true
    },
    "kernelspec": {
      "name": "python3",
      "display_name": "Python 3"
    }
  },
  "cells": [
    {
      "cell_type": "markdown",
      "metadata": {
        "id": "view-in-github",
        "colab_type": "text"
      },
      "source": [
        "<a href=\"https://colab.research.google.com/github/PragnyaSridhar/ML_project/blob/master/KNN.ipynb\" target=\"_parent\"><img src=\"https://colab.research.google.com/assets/colab-badge.svg\" alt=\"Open In Colab\"/></a>"
      ]
    },
    {
      "cell_type": "markdown",
      "metadata": {
        "id": "0074YggXaZHm",
        "colab_type": "text"
      },
      "source": [
        "# ML Project"
      ]
    },
    {
      "cell_type": "code",
      "metadata": {
        "id": "r1DyhT0rY3Uj",
        "colab_type": "code",
        "colab": {}
      },
      "source": [
        "import math \n",
        "import operator\n",
        "import numpy as np\n",
        "import csv\n",
        "from sklearn . metrics import confusion_matrix \n",
        "#from pandas_ml import ConfusionMatrix"
      ],
      "execution_count": 0,
      "outputs": []
    },
    {
      "cell_type": "code",
      "metadata": {
        "id": "8N5YegHUZXOn",
        "colab_type": "code",
        "colab": {}
      },
      "source": [
        "def loaddata(filename , file1): \n",
        "    trainSet = []\n",
        "    testSet = []\n",
        "    lines = csv.reader(open(filename , 'r')) \n",
        "    dataset = list(lines)\n",
        "\n",
        "    for i in range(len(dataset)):\n",
        "        for j in range(len(dataset[i])):\n",
        "            dataset[i][j] = float(dataset[i][j])\n",
        "        trainSet.append ( dataset[i] )\n",
        "    \n",
        "    lines = csv.reader(open(file1 , 'r')) \n",
        "    dataset = list(lines)\n",
        "    for i in range(len(dataset)):\n",
        "        for j in range(len(dataset[i])):\n",
        "            dataset[i][j] = float(dataset[i][j])\n",
        "        testSet.append ( dataset[i] )\n",
        "    return trainSet , testSet"
      ],
      "execution_count": 0,
      "outputs": []
    },
    {
      "cell_type": "code",
      "metadata": {
        "id": "dlclBuMYaLlE",
        "colab_type": "code",
        "colab": {}
      },
      "source": [
        "def eud(i1, i2, length):\n",
        "  dist=0\n",
        "  for x in range(length):\n",
        "    dist +=pow((i1[x]-i2[x]), 2)\n",
        "  return math.sqrt(dist)"
      ],
      "execution_count": 0,
      "outputs": []
    },
    {
      "cell_type": "code",
      "metadata": {
        "id": "B7itBkCva3Ol",
        "colab_type": "code",
        "colab": {}
      },
      "source": [
        "def nb ( train , test , k ) :\n",
        "  d = []\n",
        "  length = len(test)-1\n",
        "  #p r i n t ( t r a i n i n g S e t )\n",
        "  for x in range ( len (train)) :\n",
        "    #p r i n t ( ’ Test {}\\n ’ . fo rma t ( t e s t I n s t a n c e ) )\n",
        "    dist = eud ( test , train [x] , length )\n",
        "    d.append ( ( train [ x ] , dist ) )\n",
        "    #p r i n t ( d i s t a n c e s )\n",
        "  d.sort ( key=operator.itemgetter(1))\n",
        "  #p r i n t ( d i s t a n c e s )\n",
        "  nei = []\n",
        "  for x in range(k):\n",
        "    nei.append ( d[x][0] )\n",
        "  #print ( neighbors )\n",
        "  return nei"
      ],
      "execution_count": 0,
      "outputs": []
    },
    {
      "cell_type": "code",
      "metadata": {
        "id": "fSKRKsTUc_QT",
        "colab_type": "code",
        "colab": {}
      },
      "source": [
        "def res ( neighbors ) : \n",
        "  classVotes = {}\n",
        "  for x in range(len(neighbors)):\n",
        "    response = neighbors[x][-1] \n",
        "    if response in classVotes :\n",
        "      classVotes [ response ] += 1\n",
        "    else : \n",
        "      classVotes [ response ] = 1\n",
        "      \n",
        "  #print ( classVotes )      \n",
        "  sortedVotes = sorted ( classVotes . items() , key=operator . itemgetter (1) , reverse=True)\n",
        "  return sortedVotes [0][0]"
      ],
      "execution_count": 0,
      "outputs": []
    },
    {
      "cell_type": "code",
      "metadata": {
        "id": "aq7XDvOakvHJ",
        "colab_type": "code",
        "outputId": "ce80b69b-fb6c-4fbb-a14a-ec520c175c9a",
        "colab": {
          "base_uri": "https://localhost:8080/",
          "height": 341
        }
      },
      "source": [
        "def main():\n",
        "  filename = 'DataBalancedcsv.csv'\n",
        "  file1 = 'Databalancedtest.csv'\n",
        "  #sRatio = 0.80\n",
        "  train , test = loaddata(filename , file1 )\n",
        "  predictions =[] \n",
        "  k=7 \n",
        "  trueValue = []\n",
        "  for x in range(len(test)): \n",
        "    nei=nb(train, test[x], k)\n",
        "    result = res(nei)\n",
        "    predictions.append( result )\n",
        "    trueValue.append ( test[x][-1] )\n",
        "    #print(’> predicted=’ + repr(predictions) + ’, actual=’ + repr(\n",
        "    #trueValue ) )\n",
        "    cm = confusion_matrix(trueValue , predictions)\n",
        "    #for i in range(6):\n",
        "      #for j in range(6):\n",
        "        #p r i n t ( ’ { : 4 } ’ . f o r m a t ( cm [ i ] [ j ] ) ) ,\n",
        "      #print\n",
        "  print ( 'k={}'.format (k) )\n",
        "  print ( '\\n\\nConfusionMatrix\\n' ) \n",
        "  print('\\n'.join([''.join(['{:4}'.format(item) for item in row]) for row in cm])) #confusionmatrix = np.matrix(cm)\n",
        "  FP = cm.sum(axis=0) - np.diag(cm) \n",
        "  FN = cm.sum(axis=1) - np.diag(cm)\n",
        "  TP = np.diag(cm)\n",
        "  TN = cm.sum() - (FP + FN + TP)\n",
        "  print( 'False Positives \\n { }'.format( FP ) )\n",
        "  print( 'False Negetives \\n { }'.format ( FN ) ) \n",
        "  print( 'TruePositives\\n{}'.format(TP)) \n",
        "  print( 'TrueNegetives\\n{}'.format(TN))\n",
        "  TPR = TP/(TP+FN)\n",
        "  print( 'Sensitivity\\n{}'.format(TPR))\n",
        "  TNR = TN/(TN+FP)\n",
        "  print( 'Specificity\\n{}'.format(TNR)) \n",
        "  Precision = TP/(TP+FP)\n",
        "  print ( 'Precision\\n{}'. format ( Precision ) )\n",
        "  Recall = TP/(TP+FN)\n",
        "  print ( 'Recall\\n{}' . format ( Recall ) ) \n",
        "  Acc = (TP+TN)/(TP+TN+FP+FN)\n",
        "  print ( 'Accuracy\\n{}' . format (Acc) )\n",
        "  Fscore = 2*(Precision*Recall)/(Precision+Recall) \n",
        "  print ( 'FScore\\n{}'.format(Fscore ) )\n",
        "\n",
        "  \n",
        "main()"
      ],
      "execution_count": 0,
      "outputs": [
        {
          "output_type": "error",
          "ename": "FileNotFoundError",
          "evalue": "ignored",
          "traceback": [
            "\u001b[0;31m---------------------------------------------------------------------------\u001b[0m",
            "\u001b[0;31mFileNotFoundError\u001b[0m                         Traceback (most recent call last)",
            "\u001b[0;32m<ipython-input-19-396e798d47a9>\u001b[0m in \u001b[0;36m<module>\u001b[0;34m()\u001b[0m\n\u001b[1;32m     44\u001b[0m \u001b[0;34m\u001b[0m\u001b[0m\n\u001b[1;32m     45\u001b[0m \u001b[0;34m\u001b[0m\u001b[0m\n\u001b[0;32m---> 46\u001b[0;31m \u001b[0mmain\u001b[0m\u001b[0;34m(\u001b[0m\u001b[0;34m)\u001b[0m\u001b[0;34m\u001b[0m\u001b[0;34m\u001b[0m\u001b[0m\n\u001b[0m",
            "\u001b[0;32m<ipython-input-19-396e798d47a9>\u001b[0m in \u001b[0;36mmain\u001b[0;34m()\u001b[0m\n\u001b[1;32m      3\u001b[0m   \u001b[0mfile1\u001b[0m \u001b[0;34m=\u001b[0m \u001b[0;34m'Databalancedtest.csv'\u001b[0m\u001b[0;34m\u001b[0m\u001b[0;34m\u001b[0m\u001b[0m\n\u001b[1;32m      4\u001b[0m   \u001b[0;31m#sRatio = 0.80\u001b[0m\u001b[0;34m\u001b[0m\u001b[0;34m\u001b[0m\u001b[0;34m\u001b[0m\u001b[0m\n\u001b[0;32m----> 5\u001b[0;31m   \u001b[0mtrain\u001b[0m \u001b[0;34m,\u001b[0m \u001b[0mtest\u001b[0m \u001b[0;34m=\u001b[0m \u001b[0mloaddata\u001b[0m\u001b[0;34m(\u001b[0m\u001b[0mfilename\u001b[0m \u001b[0;34m,\u001b[0m \u001b[0mfile1\u001b[0m \u001b[0;34m)\u001b[0m\u001b[0;34m\u001b[0m\u001b[0;34m\u001b[0m\u001b[0m\n\u001b[0m\u001b[1;32m      6\u001b[0m   \u001b[0mpredictions\u001b[0m \u001b[0;34m=\u001b[0m\u001b[0;34m[\u001b[0m\u001b[0;34m]\u001b[0m\u001b[0;34m\u001b[0m\u001b[0;34m\u001b[0m\u001b[0m\n\u001b[1;32m      7\u001b[0m   \u001b[0mk\u001b[0m\u001b[0;34m=\u001b[0m\u001b[0;36m7\u001b[0m\u001b[0;34m\u001b[0m\u001b[0;34m\u001b[0m\u001b[0m\n",
            "\u001b[0;32m<ipython-input-3-fd1bb99475a5>\u001b[0m in \u001b[0;36mloaddata\u001b[0;34m(filename, file1)\u001b[0m\n\u001b[1;32m      2\u001b[0m     \u001b[0mtrainSet\u001b[0m \u001b[0;34m=\u001b[0m \u001b[0;34m[\u001b[0m\u001b[0;34m]\u001b[0m\u001b[0;34m\u001b[0m\u001b[0;34m\u001b[0m\u001b[0m\n\u001b[1;32m      3\u001b[0m     \u001b[0mtestSet\u001b[0m \u001b[0;34m=\u001b[0m \u001b[0;34m[\u001b[0m\u001b[0;34m]\u001b[0m\u001b[0;34m\u001b[0m\u001b[0;34m\u001b[0m\u001b[0m\n\u001b[0;32m----> 4\u001b[0;31m     \u001b[0mlines\u001b[0m \u001b[0;34m=\u001b[0m \u001b[0mcsv\u001b[0m\u001b[0;34m.\u001b[0m\u001b[0mreader\u001b[0m\u001b[0;34m(\u001b[0m\u001b[0mopen\u001b[0m\u001b[0;34m(\u001b[0m\u001b[0mfilename\u001b[0m \u001b[0;34m,\u001b[0m \u001b[0;34m'r'\u001b[0m\u001b[0;34m)\u001b[0m\u001b[0;34m)\u001b[0m\u001b[0;34m\u001b[0m\u001b[0;34m\u001b[0m\u001b[0m\n\u001b[0m\u001b[1;32m      5\u001b[0m     \u001b[0mdataset\u001b[0m \u001b[0;34m=\u001b[0m \u001b[0mlist\u001b[0m\u001b[0;34m(\u001b[0m\u001b[0mlines\u001b[0m\u001b[0;34m)\u001b[0m\u001b[0;34m\u001b[0m\u001b[0;34m\u001b[0m\u001b[0m\n\u001b[1;32m      6\u001b[0m \u001b[0;34m\u001b[0m\u001b[0m\n",
            "\u001b[0;31mFileNotFoundError\u001b[0m: [Errno 2] No such file or directory: 'DataBalancedcsv.csv'"
          ]
        }
      ]
    },
    {
      "cell_type": "code",
      "metadata": {
        "id": "v2jd0aS-k2-r",
        "colab_type": "code",
        "colab": {}
      },
      "source": [
        ""
      ],
      "execution_count": 0,
      "outputs": []
    }
  ]
}