{
 "cells": [
  {
   "cell_type": "code",
   "execution_count": 1,
   "metadata": {},
   "outputs": [],
   "source": [
    "import math \n",
    "import operator\n",
    "import numpy as np\n",
    "from sklearn . metrics import confusion_matrix \n",
    "#from pandas_ml import ConfusionMatrix"
   ]
  },
  {
   "cell_type": "code",
   "execution_count": 1,
   "metadata": {},
   "outputs": [],
   "source": [
    "def loaddata(filename , file1): \n",
    "    trainSet = []\n",
    "    testSet = []\n",
    "    lines = csv.reader(open(filename , 'r')) \n",
    "    dataset = list(lines)\n",
    "\n",
    "    for i in range(len(dataset)):\n",
    "        for j in range(len(dataset[i])):\n",
    "            dataset[i][j] = float(dataset[i][j])\n",
    "        trainSet.append ( dataset[i] )\n",
    "    \n",
    "    lines = csv.reader(open(file1 , 'r')) \n",
    "    dataset = list(lines)\n",
    "    for i in range(len(dataset)):\n",
    "        for j in range(len(dataset[i])):\n",
    "            dataset[i][j] = float(dataset[i][j])\n",
    "        testSet.append ( dataset[i] )\n",
    "    return trainSet , testSet"
   ]
  },
  {
   "cell_type": "code",
   "execution_count": null,
   "metadata": {},
   "outputs": [],
   "source": [
    "def eud(i1, i2, length):\n",
    "    dist=0\n",
    "    for x in range(length):\n",
    "        dist +=pow((i1[x] − i2[x]), 2)\n",
    "    return math.sqrt(dist)"
   ]
  }
 ],
 "metadata": {
  "kernelspec": {
   "display_name": "Python 3",
   "language": "python",
   "name": "python3"
  },
  "language_info": {
   "codemirror_mode": {
    "name": "ipython",
    "version": 3
   },
   "file_extension": ".py",
   "mimetype": "text/x-python",
   "name": "python",
   "nbconvert_exporter": "python",
   "pygments_lexer": "ipython3",
   "version": "3.7.4"
  }
 },
 "nbformat": 4,
 "nbformat_minor": 2
}
