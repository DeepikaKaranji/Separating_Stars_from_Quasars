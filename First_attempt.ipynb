{
 "cells": [
  {
   "cell_type": "markdown",
   "metadata": {
    "colab_type": "text",
    "id": "0074YggXaZHm"
   },
   "source": [
    "# ML Project"
   ]
  },
  {
   "cell_type": "code",
   "execution_count": 146,
   "metadata": {
    "colab": {},
    "colab_type": "code",
    "id": "r1DyhT0rY3Uj"
   },
   "outputs": [],
   "source": [
    "import math \n",
    "import operator\n",
    "import numpy as np\n",
    "import pandas as pd\n",
    "import csv\n",
    "from sklearn . metrics import confusion_matrix \n",
    "import random\n",
    "#from pandas_ml import ConfusionMatrix"
   ]
  },
  {
   "cell_type": "code",
   "execution_count": 147,
   "metadata": {
    "colab": {},
    "colab_type": "code",
    "id": "8N5YegHUZXOn"
   },
   "outputs": [],
   "source": [
    "def loaddata(filename): \n",
    "    #trainSet = []\n",
    "    #testSet = []\n",
    "    dataset=pd.read_csv(filename)\n",
    "    dataset.drop(columns=\"pred\")\n",
    "    #dataset.drop(columns=\"class\")\n",
    "    dataset.drop(columns=\"spectrometric_redshift\")\n",
    "\n",
    "    print(len(dataset))\n",
    "    return dataset\n",
    "    \n",
    "#     lines = csv.reader(open(file1 , 'r')) \n",
    "#     dataset = list(lines)\n",
    "#     for i in range(len(dataset)):\n",
    "#         for j in range(len(dataset[i])):\n",
    "#             dataset[i][j] = float(dataset[i][j])\n",
    "#         testSet.append ( dataset[i] )\n",
    "#     return trainSet , testSet"
   ]
  },
  {
   "cell_type": "code",
   "execution_count": 148,
   "metadata": {},
   "outputs": [],
   "source": [
    "def cross_validation_split(dataset , n_folds): \n",
    "    dataset_split = list()\n",
    "    dataset_copy = dataset.values.tolist()\n",
    "    fold_size = int(len(dataset) / n_folds)\n",
    "    for i in range(n_folds): \n",
    "        fold = list()\n",
    "        while len(fold) < fold_size:\n",
    "            index = random.randrange(len(dataset_copy)) \n",
    "            fold.append(dataset_copy.pop(index))\n",
    "        dataset_split.append(fold) \n",
    "\n",
    "    print(len(dataset_split))\n",
    "    #print(dataset_split)\n",
    "    return dataset_split"
   ]
  },
  {
   "cell_type": "code",
   "execution_count": 149,
   "metadata": {
    "colab": {},
    "colab_type": "code",
    "id": "dlclBuMYaLlE"
   },
   "outputs": [],
   "source": [
    "def eud(i1, i2, length):\n",
    "    dist=0\n",
    "    for x in range(length):\n",
    "        dist +=pow((i1[x]-i2[x]), 2)\n",
    "    return math.sqrt(dist)"
   ]
  },
  {
   "cell_type": "code",
   "execution_count": 150,
   "metadata": {
    "colab": {},
    "colab_type": "code",
    "id": "B7itBkCva3Ol"
   },
   "outputs": [],
   "source": [
    "def nb ( train , test , k ) :\n",
    "    d = []\n",
    "    length = len(test)-1\n",
    "    for x in range ( len (train)) :\n",
    "        dist = eud ( test , train [x] , length )\n",
    "        d.append ( ( train [ x ] , dist ) )\n",
    "    d.sort ( key=operator.itemgetter(1))\n",
    "    nei = []\n",
    "    for x in range(k):\n",
    "        nei.append ( d[x][0] )\n",
    "    return nei"
   ]
  },
  {
   "cell_type": "code",
   "execution_count": 151,
   "metadata": {
    "colab": {},
    "colab_type": "code",
    "id": "fSKRKsTUc_QT"
   },
   "outputs": [],
   "source": [
    "def res ( neighbors ) : \n",
    "    classVotes = {}\n",
    "    for x in range(len(neighbors)):\n",
    "        response = neighbors[x][-1] \n",
    "        if response in classVotes :\n",
    "            classVotes [ response ] += 1\n",
    "        else : \n",
    "            classVotes [ response ] = 1\n",
    "      \n",
    "    #print ( classVotes )      \n",
    "    sortedVotes = sorted ( classVotes . items() , key=operator . itemgetter (1) , reverse=True)\n",
    "    return sortedVotes [0][0]"
   ]
  },
  {
   "cell_type": "code",
   "execution_count": 152,
   "metadata": {
    "colab": {
     "base_uri": "https://localhost:8080/",
     "height": 341
    },
    "colab_type": "code",
    "id": "aq7XDvOakvHJ",
    "outputId": "ce80b69b-fb6c-4fbb-a14a-ec520c175c9a"
   },
   "outputs": [
    {
     "name": "stdout",
     "output_type": "stream",
     "text": [
      "649\n",
      "2\n"
     ]
    },
    {
     "ename": "TypeError",
     "evalue": "'float' object is not subscriptable",
     "output_type": "error",
     "traceback": [
      "\u001b[0;31m---------------------------------------------------------------------------\u001b[0m",
      "\u001b[0;31mTypeError\u001b[0m                                 Traceback (most recent call last)",
      "\u001b[0;32m<ipython-input-152-e139fa470075>\u001b[0m in \u001b[0;36m<module>\u001b[0;34m\u001b[0m\n\u001b[1;32m     45\u001b[0m \u001b[0;31m#     print ( 'FScore\\n{}'.format(Fscore ) )\u001b[0m\u001b[0;34m\u001b[0m\u001b[0;34m\u001b[0m\u001b[0;34m\u001b[0m\u001b[0m\n\u001b[1;32m     46\u001b[0m \u001b[0;34m\u001b[0m\u001b[0m\n\u001b[0;32m---> 47\u001b[0;31m \u001b[0mmain\u001b[0m\u001b[0;34m(\u001b[0m\u001b[0;34m)\u001b[0m\u001b[0;34m\u001b[0m\u001b[0;34m\u001b[0m\u001b[0m\n\u001b[0m",
      "\u001b[0;32m<ipython-input-152-e139fa470075>\u001b[0m in \u001b[0;36mmain\u001b[0;34m()\u001b[0m\n\u001b[1;32m     10\u001b[0m     \u001b[0mtrueValue\u001b[0m \u001b[0;34m=\u001b[0m \u001b[0;34m[\u001b[0m\u001b[0;34m]\u001b[0m\u001b[0;34m\u001b[0m\u001b[0;34m\u001b[0m\u001b[0m\n\u001b[1;32m     11\u001b[0m     \u001b[0;32mfor\u001b[0m \u001b[0mx\u001b[0m \u001b[0;32min\u001b[0m \u001b[0mrange\u001b[0m\u001b[0;34m(\u001b[0m\u001b[0mlen\u001b[0m\u001b[0;34m(\u001b[0m\u001b[0mtest\u001b[0m\u001b[0;34m)\u001b[0m\u001b[0;34m)\u001b[0m\u001b[0;34m:\u001b[0m\u001b[0;34m\u001b[0m\u001b[0;34m\u001b[0m\u001b[0m\n\u001b[0;32m---> 12\u001b[0;31m         \u001b[0mnei\u001b[0m\u001b[0;34m=\u001b[0m\u001b[0mnb\u001b[0m\u001b[0;34m(\u001b[0m\u001b[0mtrain\u001b[0m\u001b[0;34m,\u001b[0m \u001b[0mtest\u001b[0m\u001b[0;34m[\u001b[0m\u001b[0mx\u001b[0m\u001b[0;34m]\u001b[0m\u001b[0;34m,\u001b[0m \u001b[0mk\u001b[0m\u001b[0;34m)\u001b[0m\u001b[0;34m\u001b[0m\u001b[0;34m\u001b[0m\u001b[0m\n\u001b[0m\u001b[1;32m     13\u001b[0m         \u001b[0mresult\u001b[0m \u001b[0;34m=\u001b[0m \u001b[0mres\u001b[0m\u001b[0;34m(\u001b[0m\u001b[0mnei\u001b[0m\u001b[0;34m)\u001b[0m\u001b[0;34m\u001b[0m\u001b[0;34m\u001b[0m\u001b[0m\n\u001b[1;32m     14\u001b[0m         \u001b[0mpredictions\u001b[0m\u001b[0;34m.\u001b[0m\u001b[0mappend\u001b[0m\u001b[0;34m(\u001b[0m \u001b[0mresult\u001b[0m \u001b[0;34m)\u001b[0m\u001b[0;34m\u001b[0m\u001b[0;34m\u001b[0m\u001b[0m\n",
      "\u001b[0;32m<ipython-input-150-4cc9968ab270>\u001b[0m in \u001b[0;36mnb\u001b[0;34m(train, test, k)\u001b[0m\n\u001b[1;32m      3\u001b[0m     \u001b[0mlength\u001b[0m \u001b[0;34m=\u001b[0m \u001b[0mlen\u001b[0m\u001b[0;34m(\u001b[0m\u001b[0mtest\u001b[0m\u001b[0;34m)\u001b[0m\u001b[0;34m-\u001b[0m\u001b[0;36m1\u001b[0m\u001b[0;34m\u001b[0m\u001b[0;34m\u001b[0m\u001b[0m\n\u001b[1;32m      4\u001b[0m     \u001b[0;32mfor\u001b[0m \u001b[0mx\u001b[0m \u001b[0;32min\u001b[0m \u001b[0mrange\u001b[0m \u001b[0;34m(\u001b[0m \u001b[0mlen\u001b[0m \u001b[0;34m(\u001b[0m\u001b[0mtrain\u001b[0m\u001b[0;34m)\u001b[0m\u001b[0;34m)\u001b[0m \u001b[0;34m:\u001b[0m\u001b[0;34m\u001b[0m\u001b[0;34m\u001b[0m\u001b[0m\n\u001b[0;32m----> 5\u001b[0;31m         \u001b[0mdist\u001b[0m \u001b[0;34m=\u001b[0m \u001b[0meud\u001b[0m \u001b[0;34m(\u001b[0m \u001b[0mtest\u001b[0m\u001b[0;34m[\u001b[0m\u001b[0mx\u001b[0m\u001b[0;34m]\u001b[0m \u001b[0;34m,\u001b[0m \u001b[0mtrain\u001b[0m \u001b[0;34m[\u001b[0m\u001b[0mx\u001b[0m\u001b[0;34m]\u001b[0m \u001b[0;34m,\u001b[0m \u001b[0mlength\u001b[0m \u001b[0;34m)\u001b[0m\u001b[0;34m\u001b[0m\u001b[0;34m\u001b[0m\u001b[0m\n\u001b[0m\u001b[1;32m      6\u001b[0m         \u001b[0md\u001b[0m\u001b[0;34m.\u001b[0m\u001b[0mappend\u001b[0m \u001b[0;34m(\u001b[0m \u001b[0;34m(\u001b[0m \u001b[0mtrain\u001b[0m \u001b[0;34m[\u001b[0m \u001b[0mx\u001b[0m \u001b[0;34m]\u001b[0m \u001b[0;34m,\u001b[0m \u001b[0mdist\u001b[0m \u001b[0;34m)\u001b[0m \u001b[0;34m)\u001b[0m\u001b[0;34m\u001b[0m\u001b[0;34m\u001b[0m\u001b[0m\n\u001b[1;32m      7\u001b[0m     \u001b[0md\u001b[0m\u001b[0;34m.\u001b[0m\u001b[0msort\u001b[0m \u001b[0;34m(\u001b[0m \u001b[0mkey\u001b[0m\u001b[0;34m=\u001b[0m\u001b[0moperator\u001b[0m\u001b[0;34m.\u001b[0m\u001b[0mitemgetter\u001b[0m\u001b[0;34m(\u001b[0m\u001b[0;36m1\u001b[0m\u001b[0;34m)\u001b[0m\u001b[0;34m)\u001b[0m\u001b[0;34m\u001b[0m\u001b[0;34m\u001b[0m\u001b[0m\n",
      "\u001b[0;32m<ipython-input-149-005cf039ad0f>\u001b[0m in \u001b[0;36meud\u001b[0;34m(i1, i2, length)\u001b[0m\n\u001b[1;32m      2\u001b[0m     \u001b[0mdist\u001b[0m\u001b[0;34m=\u001b[0m\u001b[0;36m0\u001b[0m\u001b[0;34m\u001b[0m\u001b[0;34m\u001b[0m\u001b[0m\n\u001b[1;32m      3\u001b[0m     \u001b[0;32mfor\u001b[0m \u001b[0mx\u001b[0m \u001b[0;32min\u001b[0m \u001b[0mrange\u001b[0m\u001b[0;34m(\u001b[0m\u001b[0mlength\u001b[0m\u001b[0;34m)\u001b[0m\u001b[0;34m:\u001b[0m\u001b[0;34m\u001b[0m\u001b[0;34m\u001b[0m\u001b[0m\n\u001b[0;32m----> 4\u001b[0;31m         \u001b[0mdist\u001b[0m \u001b[0;34m+=\u001b[0m\u001b[0mpow\u001b[0m\u001b[0;34m(\u001b[0m\u001b[0;34m(\u001b[0m\u001b[0mi1\u001b[0m\u001b[0;34m[\u001b[0m\u001b[0mx\u001b[0m\u001b[0;34m]\u001b[0m\u001b[0;34m-\u001b[0m\u001b[0mi2\u001b[0m\u001b[0;34m[\u001b[0m\u001b[0mx\u001b[0m\u001b[0;34m]\u001b[0m\u001b[0;34m)\u001b[0m\u001b[0;34m,\u001b[0m \u001b[0;36m2\u001b[0m\u001b[0;34m)\u001b[0m\u001b[0;34m\u001b[0m\u001b[0;34m\u001b[0m\u001b[0m\n\u001b[0m\u001b[1;32m      5\u001b[0m     \u001b[0;32mreturn\u001b[0m \u001b[0mmath\u001b[0m\u001b[0;34m.\u001b[0m\u001b[0msqrt\u001b[0m\u001b[0;34m(\u001b[0m\u001b[0mdist\u001b[0m\u001b[0;34m)\u001b[0m\u001b[0;34m\u001b[0m\u001b[0;34m\u001b[0m\u001b[0m\n",
      "\u001b[0;31mTypeError\u001b[0m: 'float' object is not subscriptable"
     ]
    }
   ],
   "source": [
    "def main():\n",
    "    filename = 'dataset/catalog1/cat1.csv'\n",
    "    #sRatio = 0.80\n",
    "    data = loaddata(filename)\n",
    "    splits=cross_validation_split(data ,2)\n",
    "    test,train=splits[0],splits[1]\n",
    "    \n",
    "    predictions =[]\n",
    "    k=7 \n",
    "    trueValue = []\n",
    "    for x in range(len(test)): \n",
    "        nei=nb(train, test[x], k)\n",
    "        result = res(nei)\n",
    "        predictions.append( result )\n",
    "        trueValue.append ( test[x][15] )\n",
    "    #print(’> predicted=’ + repr(predictions) + ’, actual=’ + repr(/\n",
    "    #trueValue ) )\n",
    "    cm = confusion_matrix(trueValue , predictions)\n",
    "    #for i in range(6):\n",
    "      #for j in range(6):\n",
    "        #p r i n t ( ’ { : 4 } ’ . f o r m a t ( cm [ i ] [ j ] ) ) ,\n",
    "      #print\n",
    "    print ( 'k={}'.format(k) )\n",
    "    print ( '\\n\\nConfusionMatrix\\n' ) \n",
    "    print('\\n'.join([''.join(['{:4}'.format(item) for item in row]) for row in cm])) #confusionmatrix = np.matrix(cm)\n",
    "    FP = cm.sum(axis=0) - np.diag(cm) \n",
    "    FN = cm.sum(axis=1) - np.diag(cm)\n",
    "    TP = np.diag(cm)\n",
    "    TN = cm.sum() - (FP + FN + TP)\n",
    "    print( 'False Positives \\n { }'.format( FP ) )\n",
    "    print( 'False Negetives \\n { }'.format ( FN ) ) \n",
    "    print( 'TruePositives\\n{}'.format(TP)) \n",
    "    print( 'TrueNegetives\\n{}'.format(TN))\n",
    "#     TPR = TP/(TP+FN)\n",
    "#     print( 'Sensitivity\\n{}'.format(TPR))\n",
    "#     TNR = TN/(TN+FP)\n",
    "#     print( 'Specificity\\n{}'.format(TNR)) \n",
    "#     Precision = TP/(TP+FP)\n",
    "#     print ( 'Precision\\n{}'. format ( Precision ) )\n",
    "#     Recall = TP/(TP+FN)\n",
    "#     print ( 'Recall\\n{}' . format ( Recall ) ) \n",
    "#     Acc = (TP+TN)/(TP+TN+FP+FN)\n",
    "#     print ( 'Accuracy\\n{}' . format (Acc) )\n",
    "#     Fscore = 2*(Precision*Recall)/(Precision+Recall) \n",
    "#     print ( 'FScore\\n{}'.format(Fscore ) )\n",
    "\n",
    "main()"
   ]
  },
  {
   "cell_type": "code",
   "execution_count": null,
   "metadata": {},
   "outputs": [],
   "source": []
  },
  {
   "cell_type": "code",
   "execution_count": null,
   "metadata": {},
   "outputs": [],
   "source": []
  },
  {
   "cell_type": "raw",
   "metadata": {
    "colab": {},
    "colab_type": "code",
    "id": "v2jd0aS-k2-r"
   },
   "source": []
  }
 ],
 "metadata": {
  "colab": {
   "collapsed_sections": [],
   "name": "First attempt",
   "provenance": []
  },
  "kernelspec": {
   "display_name": "Python 3",
   "language": "python",
   "name": "python3"
  },
  "language_info": {
   "codemirror_mode": {
    "name": "ipython",
    "version": 3
   },
   "file_extension": ".py",
   "mimetype": "text/x-python",
   "name": "python",
   "nbconvert_exporter": "python",
   "pygments_lexer": "ipython3",
   "version": "3.7.4"
  }
 },
 "nbformat": 4,
 "nbformat_minor": 1
}
